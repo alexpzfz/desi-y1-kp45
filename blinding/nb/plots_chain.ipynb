{
 "cells": [
  {
   "cell_type": "code",
   "execution_count": 30,
   "id": "c9333007-8187-4516-a443-b2acf52c3c34",
   "metadata": {},
   "outputs": [],
   "source": [
    "%matplotlib inline\n",
    "import os\n",
    "\n",
    "import numpy as np\n",
    "from matplotlib import pyplot as plt"
   ]
  },
  {
   "cell_type": "code",
   "execution_count": 31,
   "id": "ba194d50",
   "metadata": {},
   "outputs": [],
   "source": [
    "import matplotlib as mpl\n",
    "fontsize = 14\n",
    "rcparams = {}\n",
    "rcparams['figure.figsize'] = (10, 6)\n",
    "rcparams['axes.labelsize'] = fontsize\n",
    "rcparams['legend.fontsize'] = fontsize-4\n",
    "rcparams['axes.titlesize'] = fontsize\n",
    "rcparams['axes.linewidth'] = 1.5\n",
    "#rcparams['axes.grid'] = True\n",
    "for axis in ['x', 'y']:\n",
    "    rcparams['%stick.labelsize' % axis] = fontsize-2\n",
    "    rcparams['%stick.direction' % axis] = 'in'\n",
    "    rcparams['%stick.major.size' % axis] = 5.5\n",
    "    rcparams['%stick.minor.size' % axis] =  3.5\n",
    "    rcparams['%stick.major.width' % axis] = 2\n",
    "    rcparams['%stick.minor.width' % axis] = 1.5\n",
    "rcparams['xtick.top'] = True\n",
    "rcparams['ytick.right'] = True\n",
    "# set up the plotting params\n",
    "for key in rcparams: mpl.rcParams[key] = rcparams[key]"
   ]
  },
  {
   "cell_type": "code",
   "execution_count": 32,
   "id": "0336a26e",
   "metadata": {},
   "outputs": [],
   "source": [
    "# setup the outdir - where plots will be saved\n",
    "outdir = '/pscratch/sd/u/uendert/test_y1_full_shape/figs/'\n",
    "os.makedirs(outdir, exist_ok=True)"
   ]
  },
  {
   "cell_type": "code",
   "execution_count": 33,
   "id": "8d8af027",
   "metadata": {},
   "outputs": [],
   "source": [
    "from desilike.samples import plotting, Chain\n",
    "from getdist import plots\n",
    "\n",
    "# desilike\n",
    "def process_chains(chain_dir=os.path.join(os.getenv('SCRATCH'), 'test_y1_full_shape'),\n",
    "                   observable='corr', tracer='LRG1',\n",
    "                   templates=['shapefit', 'shapefit-qisoqap', 'shapefit-qisoqap-prior']\n",
    "                ):\n",
    "    # set up zmin, zmax for this tracer\n",
    "    zmin, zmax = {'LRG0': [0.4, 1.1],'LRG1': [0.4, 0.6], 'LRG2': [0.6, 0.8], 'LRG3': [0.8, 1.1],\n",
    "                   'ELG1':[0.8, 1.1], 'ELG2':[0.8, 1.6], 'ELG3': [1.1, 1.6],\n",
    "                   'QSO1': [0.8, 2.1],\n",
    "                   'BGS1': [0.1, 0.4]\n",
    "                   \n",
    "                   }[tracer]\n",
    "\n",
    "    # modify the names to be what the files have\n",
    "    if 'ELG' in tracer: tracer = 'ELG_LOPnotqso' + tracer[-1]\n",
    "    if 'BGS' in tracer: tracer = 'BGS_BRIGHT-21.5' + tracer[-1]\n",
    "    # misc\n",
    "    templates = np.array(templates)\n",
    "    templates_readin = []\n",
    "\n",
    "    # load in the chains\n",
    "    chains = []\n",
    "    # loop over the templates - and read whats available\n",
    "    for template in templates:\n",
    "        print(f'reading chains for {template} .. ')\n",
    "        # pscratch/sd/u/uendert/test_y1_full_shape/chain_LRG_0.4_1.1_power_velocileptors_shapefit-qisoqap_0.npy\n",
    "        # /pscratch/sd/u/uendert/test_y1_full_shape/chain_LRG_0.4_0.6_power_velocileptors_shapefit_0.npy\n",
    "\n",
    "        print(os.path.join(chain_dir, 'chain_{}_{}_{}_{}_velocileptors_{}_0.npy'.format(tracer[:-1], zmin, zmax, observable, template,)))\n",
    "        if os.path.exists(os.path.join(chain_dir, 'chain_{}_{}_{}_{}_velocileptors_{}_0.npy'.format(tracer[:-1], zmin, zmax, observable, template,))):\n",
    "            chain = Chain.concatenate([Chain.load(os.path.join(chain_dir,\n",
    "                                                            'chain_{}_{}_{}_{}_velocileptors_{}_{:d}.npy'.format(tracer[:-1], zmin, zmax, observable, template,\n",
    "                                                                                                                    i))).remove_burnin(0.5)[::20] for i in range(8)])\n",
    "            chain = chain.sample_solved()\n",
    "            chains.append(chain.to_getdist(label='template: {}'.format(template)))\n",
    "            templates_readin.append(template)\n",
    "        else:\n",
    "            print(f'chain for {template} not found')\n",
    "\n",
    "    # now plot - first the full thing, with all params\n",
    "    #colors = ['#7f7f7f', '#1f77b4', '#ff7f0e']\n",
    "    colors = ['#7f7f7f', '#1f77b4', '#ff7f0e']\n",
    "    # ['#1f77b4', '#ff7f0e', '#2ca02c', '#d62728', '#9467bd', '#8c564b', '#e377c2', '#7f7f7f', '#bcbd22', '#17becf']\n",
    "    plt.clf()\n",
    "    g = plots.get_subplot_plotter()\n",
    "    g.settings.alpha_filled_add = 0.8\n",
    "    g.settings.title_limit_fontsize = 20\n",
    "    g.settings.axes_labelsize = 20\n",
    "    g.settings.legend_fontsize = 20\n",
    "    g.triangle_plot(chains, analysis_settings={'ignore_rows': 0.3},\n",
    "                    filled=False, contour_lws=[3,2,2],\n",
    "                    contour_colors=colors,\n",
    "                    markers={\"qper\":1., \"qpar\":1., \"df\":1., \"dm\":0.}, marker_args={'ls': '-'},\n",
    "                    )\n",
    "    plt.tight_layout()\n",
    "    plt.suptitle(f\"{tracer[:-1]}: [{zmin},{zmax}]\", fontweight=\"bold\", y=1.05, fontsize=20)\n",
    "    fname = 'plot_posteriors_{}_{}_{}_{}_velocileptors_{}templates.png'.format(tracer[:-1], zmin, zmax, observable, len(templates_readin))\n",
    "    plt.savefig(f'{outdir}/{fname}', format='png', bbox_inches='tight')\n",
    "    print(f'saved {fname}')\n",
    "    plt.show()\n",
    "\n",
    "    # now plot only some\n",
    "    if 'shapefit-qisoqap' in templates_readin and 'shapefit-qisoqap-prior' in templates_readin:\n",
    "        ind1 = np.where(templates == 'shapefit-qisoqap')[0][0]\n",
    "        ind2 = np.where(templates == 'shapefit-qisoqap-prior')[0][0]\n",
    "\n",
    "        plt.clf()\n",
    "        g = plots.get_subplot_plotter()\n",
    "        g.settings.alpha_filled_add = 0.8\n",
    "        g.settings.title_limit_fontsize = 14\n",
    "        g.settings.axes_labelsize = 14\n",
    "        g.settings.legend_fontsize = 14\n",
    "        g.settings.axes_fontsize = 14\n",
    "        g.triangle_plot([chains[ind1],chains[ind2]], params=[\"qiso\", \"qap\", \"df\", \"dm\"],\n",
    "                        analysis_settings={'ignore_rows': 0.3}, title_limit=2,\n",
    "                        markers={\"qiso\":1., \"qap\":1., \"df\":1., \"dm\":0.}, marker_args={'ls': '-'},\n",
    "                        filled=False, contour_lws=[3,2],\n",
    "                        contour_colors=[colors[ind1], colors[ind2]]\n",
    "                        )\n",
    "        plt.tight_layout()\n",
    "        plt.suptitle(f\"{tracer[:-1]}: [{zmin},{zmax}]\", fontweight=\"bold\")\n",
    "        fname = 'plot_posteriors-4params_{}_{}_{}_{}_velocileptors_2templates.png'.format(tracer[:-1], zmin, zmax, observable)\n",
    "        plt.savefig(f'{outdir}/{fname}', format='png', bbox_inches='tight')\n",
    "        print(f'saved {fname}')\n",
    "        plt.show()"
   ]
  },
  {
   "cell_type": "code",
   "execution_count": 34,
   "id": "f19503ab",
   "metadata": {},
   "outputs": [
    {
     "name": "stdout",
     "output_type": "stream",
     "text": [
      "############################################################\n",
      "plotting things for LRG0\n",
      "reading chains for shapefit .. \n",
      "/pscratch/sd/u/uendert/test_y1_full_shape/chain_LRG_0.4_1.1_corr_velocileptors_shapefit_0.npy\n",
      "chain for shapefit not found\n",
      "reading chains for shapefit-qisoqap .. \n",
      "/pscratch/sd/u/uendert/test_y1_full_shape/chain_LRG_0.4_1.1_corr_velocileptors_shapefit-qisoqap_0.npy\n",
      "chain for shapefit-qisoqap not found\n",
      "reading chains for shapefit-qisoqap-prior .. \n",
      "/pscratch/sd/u/uendert/test_y1_full_shape/chain_LRG_0.4_1.1_corr_velocileptors_shapefit-qisoqap-prior_0.npy\n",
      "chain for shapefit-qisoqap-prior not found\n"
     ]
    },
    {
     "ename": "IndexError",
     "evalue": "list index out of range",
     "output_type": "error",
     "traceback": [
      "\u001b[0;31m---------------------------------------------------------------------------\u001b[0m",
      "\u001b[0;31mIndexError\u001b[0m                                Traceback (most recent call last)",
      "File \u001b[0;32m<timed exec>:4\u001b[0m\n",
      "Cell \u001b[0;32mIn[33], line 53\u001b[0m, in \u001b[0;36mprocess_chains\u001b[0;34m(chain_dir, observable, tracer, templates)\u001b[0m\n\u001b[1;32m     51\u001b[0m g\u001b[39m.\u001b[39msettings\u001b[39m.\u001b[39maxes_labelsize \u001b[39m=\u001b[39m \u001b[39m20\u001b[39m\n\u001b[1;32m     52\u001b[0m g\u001b[39m.\u001b[39msettings\u001b[39m.\u001b[39mlegend_fontsize \u001b[39m=\u001b[39m \u001b[39m20\u001b[39m\n\u001b[0;32m---> 53\u001b[0m g\u001b[39m.\u001b[39;49mtriangle_plot(chains, analysis_settings\u001b[39m=\u001b[39;49m{\u001b[39m'\u001b[39;49m\u001b[39mignore_rows\u001b[39;49m\u001b[39m'\u001b[39;49m: \u001b[39m0.3\u001b[39;49m},\n\u001b[1;32m     54\u001b[0m                 filled\u001b[39m=\u001b[39;49m\u001b[39mFalse\u001b[39;49;00m, contour_lws\u001b[39m=\u001b[39;49m[\u001b[39m3\u001b[39;49m,\u001b[39m2\u001b[39;49m,\u001b[39m2\u001b[39;49m],\n\u001b[1;32m     55\u001b[0m                 contour_colors\u001b[39m=\u001b[39;49mcolors,\n\u001b[1;32m     56\u001b[0m                 markers\u001b[39m=\u001b[39;49m{\u001b[39m\"\u001b[39;49m\u001b[39mqper\u001b[39;49m\u001b[39m\"\u001b[39;49m:\u001b[39m1.\u001b[39;49m, \u001b[39m\"\u001b[39;49m\u001b[39mqpar\u001b[39;49m\u001b[39m\"\u001b[39;49m:\u001b[39m1.\u001b[39;49m, \u001b[39m\"\u001b[39;49m\u001b[39mdf\u001b[39;49m\u001b[39m\"\u001b[39;49m:\u001b[39m1.\u001b[39;49m, \u001b[39m\"\u001b[39;49m\u001b[39mdm\u001b[39;49m\u001b[39m\"\u001b[39;49m:\u001b[39m0.\u001b[39;49m}, marker_args\u001b[39m=\u001b[39;49m{\u001b[39m'\u001b[39;49m\u001b[39mls\u001b[39;49m\u001b[39m'\u001b[39;49m: \u001b[39m'\u001b[39;49m\u001b[39m-\u001b[39;49m\u001b[39m'\u001b[39;49m},\n\u001b[1;32m     57\u001b[0m                 )\n\u001b[1;32m     58\u001b[0m plt\u001b[39m.\u001b[39mtight_layout()\n\u001b[1;32m     59\u001b[0m plt\u001b[39m.\u001b[39msuptitle(\u001b[39mf\u001b[39m\u001b[39m\"\u001b[39m\u001b[39m{\u001b[39;00mtracer[:\u001b[39m-\u001b[39m\u001b[39m1\u001b[39m]\u001b[39m}\u001b[39;00m\u001b[39m: [\u001b[39m\u001b[39m{\u001b[39;00mzmin\u001b[39m}\u001b[39;00m\u001b[39m,\u001b[39m\u001b[39m{\u001b[39;00mzmax\u001b[39m}\u001b[39;00m\u001b[39m]\u001b[39m\u001b[39m\"\u001b[39m, fontweight\u001b[39m=\u001b[39m\u001b[39m\"\u001b[39m\u001b[39mbold\u001b[39m\u001b[39m\"\u001b[39m, y\u001b[39m=\u001b[39m\u001b[39m1.05\u001b[39m, fontsize\u001b[39m=\u001b[39m\u001b[39m20\u001b[39m)\n",
      "File \u001b[0;32m/global/cfs/cdirs/desi/users/adematti/perlmutter/cosmodesiconda/20221205-1.0.0/conda/lib/python3.10/site-packages/getdist/plots.py:2373\u001b[0m, in \u001b[0;36mGetDistPlotter.triangle_plot\u001b[0;34m(self, roots, params, legend_labels, plot_3d_with_param, filled, shaded, contour_args, contour_colors, contour_ls, contour_lws, line_args, label_order, legend_ncol, legend_loc, title_limit, upper_roots, upper_kwargs, upper_label_right, diag1d_kwargs, markers, marker_args, param_limits, **kwargs)\u001b[0m\n\u001b[1;32m   2315\u001b[0m \u001b[39m\"\"\"\u001b[39;00m\n\u001b[1;32m   2316\u001b[0m \u001b[39mMake a trianglular array of 1D and 2D plots.\u001b[39;00m\n\u001b[1;32m   2317\u001b[0m \n\u001b[0;32m   (...)\u001b[0m\n\u001b[1;32m   2370\u001b[0m \n\u001b[1;32m   2371\u001b[0m \u001b[39m\"\"\"\u001b[39;00m\n\u001b[1;32m   2372\u001b[0m roots \u001b[39m=\u001b[39m makeList(roots)\n\u001b[0;32m-> 2373\u001b[0m params \u001b[39m=\u001b[39m \u001b[39mself\u001b[39m\u001b[39m.\u001b[39mget_param_array(roots[\u001b[39m0\u001b[39;49m], params)\n\u001b[1;32m   2374\u001b[0m plot_col \u001b[39m=\u001b[39m \u001b[39mlen\u001b[39m(params)\n\u001b[1;32m   2375\u001b[0m \u001b[39mif\u001b[39;00m plot_3d_with_param \u001b[39mis\u001b[39;00m \u001b[39mnot\u001b[39;00m \u001b[39mNone\u001b[39;00m:\n",
      "\u001b[0;31mIndexError\u001b[0m: list index out of range"
     ]
    },
    {
     "data": {
      "text/plain": [
       "<Figure size 1000x600 with 0 Axes>"
      ]
     },
     "metadata": {},
     "output_type": "display_data"
    }
   ],
   "source": [
    "%%time\n",
    "\n",
    "for tracer in ['LRG0', 'LRG1', 'LRG2', 'LRG3', 'ELG1', 'ELG2', 'ELG3', 'QSO1', 'BGS1']:\n",
    "   print('############################################################')\n",
    "   print(f'plotting things for {tracer}')\n",
    "   process_chains(chain_dir=os.path.join(os.getenv('SCRATCH'), 'test_y1_full_shape'),\n",
    "                   observable='corr', tracer=tracer,\n",
    "                   templates=['shapefit', 'shapefit-qisoqap', 'shapefit-qisoqap-prior']\n",
    "                )\n",
    "   print('############################################################\\n\\n')"
   ]
  },
  {
   "cell_type": "code",
   "execution_count": null,
   "id": "fdf14bab",
   "metadata": {},
   "outputs": [],
   "source": []
  },
  {
   "cell_type": "code",
   "execution_count": null,
   "id": "bdab2dbf",
   "metadata": {},
   "outputs": [],
   "source": []
  },
  {
   "attachments": {},
   "cell_type": "markdown",
   "id": "ffd023fc",
   "metadata": {},
   "source": [
    "misc"
   ]
  },
  {
   "cell_type": "code",
   "execution_count": null,
   "id": "f6bd6006",
   "metadata": {},
   "outputs": [],
   "source": [
    "\n",
    "#g = plots.get_subplot_plotter()\n",
    "\n",
    "#?g.settings\n",
    "#?g.triangle_plot"
   ]
  },
  {
   "cell_type": "code",
   "execution_count": null,
   "id": "6271d396",
   "metadata": {},
   "outputs": [
    {
     "data": {
      "text/plain": [
       "['chain_ELG_LOPnotqso_0.8_1.1_corr_velocileptors_shapefit-qisoqap_4.npy',\n",
       " 'chain_ELG_LOPnotqso_0.8_1.1_corr_velocileptors_shapefit-qisoqap-prior_5.npy',\n",
       " 'chain_ELG_LOPnotqso_0.8_1.1_corr_velocileptors_shapefit-qisoqap_1.npy',\n",
       " 'chain_ELG_LOPnotqso_0.8_1.1_corr_velocileptors_shapefit-qisoqap_6.npy',\n",
       " 'chain_ELG_LOPnotqso_0.8_1.1_corr_velocileptors_shapefit_7.npy',\n",
       " 'chain_ELG_LOPnotqso_0.8_1.1_corr_velocileptors_shapefit-qisoqap-prior_0.npy',\n",
       " 'chain_ELG_LOPnotqso_0.8_1.1_corr_velocileptors_shapefit-qisoqap-prior_7.npy',\n",
       " 'chain_ELG_LOPnotqso_0.8_1.1_corr_velocileptors_shapefit-qisoqap-prior_6.npy',\n",
       " 'chain_ELG_LOPnotqso_0.8_1.1_corr_velocileptors_shapefit-qisoqap_7.npy',\n",
       " 'chain_ELG_LOPnotqso_0.8_1.1_corr_velocileptors_shapefit_6.npy',\n",
       " 'chain_ELG_LOPnotqso_0.8_1.1_corr_velocileptors_shapefit_1.npy',\n",
       " 'poles_bestfit_ELG_LOPnotqso_0.8_1.1_corr_velocileptors_shapefit-qisoqap.png',\n",
       " 'chain_ELG_LOPnotqso_0.8_1.1_corr_velocileptors_shapefit_2.npy',\n",
       " 'chain_ELG_LOPnotqso_0.8_1.1_corr_velocileptors_shapefit_4.npy',\n",
       " 'poles_bestfit_ELG_LOPnotqso_0.8_1.1_corr_velocileptors_shapefit-qisoqap-prior.png',\n",
       " 'chain_ELG_LOPnotqso_0.8_1.1_corr_velocileptors_shapefit-qisoqap_0.npy',\n",
       " 'chain_ELG_LOPnotqso_0.8_1.1_corr_velocileptors_shapefit-qisoqap-prior_4.npy',\n",
       " 'poles_bestfit_ELG_LOPnotqso_0.8_1.1_corr_velocileptors_shapefit.png',\n",
       " 'chain_ELG_LOPnotqso_0.8_1.1_corr_velocileptors_shapefit_3.npy',\n",
       " 'chain_ELG_LOPnotqso_0.8_1.1_corr_velocileptors_shapefit-qisoqap-prior_2.npy',\n",
       " 'chain_ELG_LOPnotqso_0.8_1.1_corr_velocileptors_shapefit-qisoqap_5.npy',\n",
       " 'chain_ELG_LOPnotqso_0.8_1.1_corr_velocileptors_shapefit-qisoqap_2.npy',\n",
       " 'chain_ELG_LOPnotqso_0.8_1.1_corr_velocileptors_shapefit-qisoqap-prior_3.npy',\n",
       " 'chain_ELG_LOPnotqso_0.8_1.1_corr_velocileptors_shapefit-qisoqap_3.npy',\n",
       " 'chain_ELG_LOPnotqso_0.8_1.1_corr_velocileptors_shapefit_0.npy',\n",
       " 'chain_ELG_LOPnotqso_0.8_1.1_corr_velocileptors_shapefit-qisoqap-prior_1.npy',\n",
       " 'chain_ELG_LOPnotqso_0.8_1.1_corr_velocileptors_shapefit_5.npy']"
      ]
     },
     "execution_count": 7,
     "metadata": {},
     "output_type": "execute_result"
    }
   ],
   "source": [
    "[f for f in os.listdir('/pscratch/sd/u/uendert/test_y1_full_shape/') if f.__contains__('ELG') and f.__contains__('0.8_1.1')]"
   ]
  },
  {
   "cell_type": "code",
   "execution_count": null,
   "id": "7b81acf3",
   "metadata": {},
   "outputs": [
    {
     "ename": "NameError",
     "evalue": "name 'chains' is not defined",
     "output_type": "error",
     "traceback": [
      "\u001b[0;31m---------------------------------------------------------------------------\u001b[0m",
      "\u001b[0;31mNameError\u001b[0m                                 Traceback (most recent call last)",
      "Cell \u001b[0;32mIn[8], line 1\u001b[0m\n\u001b[0;32m----> 1\u001b[0m temp \u001b[39m=\u001b[39m chains[\u001b[39m1\u001b[39m]\n\u001b[1;32m      2\u001b[0m \u001b[39m-\u001b[39m\u001b[39m2\u001b[39m \u001b[39m*\u001b[39m temp\u001b[39m.\u001b[39mloglikes\u001b[39m.\u001b[39mmax()\n",
      "\u001b[0;31mNameError\u001b[0m: name 'chains' is not defined"
     ]
    }
   ],
   "source": [
    "temp = chains[1]\n",
    "-2 * temp.loglikes.max()"
   ]
  },
  {
   "cell_type": "code",
   "execution_count": null,
   "id": "fcd1092e",
   "metadata": {},
   "outputs": [],
   "source": [
    "from getdist import plots\n",
    "plt.clf()\n",
    "g = plots.get_subplot_plotter()\n",
    "g.triangle_plot(chains, params=['LRG.b1', 'LRG.b2', 'LRG.bs', 'LRG.alpha0', 'LRG.alpha2', 'LRG.alpha4', 'LRG.sn2', 'LRG.sn2','LRG.sn4'], analysis_settings={'ignore_rows': 0.3})\n",
    "plt.tight_layout()\n",
    "plt.suptitle(f\"{tracer[:-1]}: [{zmin},{zmax}]\", fontweight=\"bold\")\n",
    "plt.show()"
   ]
  },
  {
   "cell_type": "code",
   "execution_count": null,
   "id": "740607a4",
   "metadata": {},
   "outputs": [],
   "source": [
    "for i in range(12):\n",
    "    print(i, chains[0].parName(i))"
   ]
  },
  {
   "cell_type": "code",
   "execution_count": null,
   "id": "ec320c49-c1b9-45cd-a25e-e9ad6d6dc94b",
   "metadata": {},
   "outputs": [],
   "source": [
    "print(chains[1].getTable().tableTex())"
   ]
  },
  {
   "cell_type": "code",
   "execution_count": null,
   "id": "5f36f827",
   "metadata": {},
   "outputs": [],
   "source": []
  }
 ],
 "metadata": {
  "kernelspec": {
   "display_name": "base",
   "language": "python",
   "name": "python3"
  },
  "language_info": {
   "codemirror_mode": {
    "name": "ipython",
    "version": 3
   },
   "file_extension": ".py",
   "mimetype": "text/x-python",
   "name": "python",
   "nbconvert_exporter": "python",
   "pygments_lexer": "ipython3",
   "version": "3.10.6"
  }
 },
 "nbformat": 4,
 "nbformat_minor": 5
}
