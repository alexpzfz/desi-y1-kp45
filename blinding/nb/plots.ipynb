{
 "cells": [
  {
   "cell_type": "code",
   "execution_count": 1,
   "metadata": {},
   "outputs": [
    {
     "name": "stderr",
     "output_type": "stream",
     "text": [
      "No GPU/TPU found, falling back to CPU. (Set TF_CPP_MIN_LOG_LEVEL=0 and rerun for more info.)\n"
     ]
    }
   ],
   "source": [
    "from desilike.samples import Profiles\n",
    "profiles_fn = '/pscratch/sd/u/uendert/test_y1_bao/profiles_LRG_power_dampedbao_bao-qisoqap.npy'\n",
    "profiles_fn_only_now = '/pscratch/sd/u/uendert/test_y1_bao/profiles_only_now_LRG_power_dampedbao_bao-qisoqap.npy'\n",
    "\n",
    "profiler = Profiles.load(profiles_fn)\n",
    "profiler_now = Profiles.load(profiles_fn_only_now)"
   ]
  },
  {
   "cell_type": "code",
   "execution_count": 2,
   "metadata": {},
   "outputs": [
    {
     "name": "stdout",
     "output_type": "stream",
     "text": [
      "ParameterProfiles(shape=(30, 2), params=ParameterCollection(['qiso']))\n",
      "ParameterProfiles(shape=(30, 2), params=ParameterCollection(['qiso']))\n"
     ]
    }
   ],
   "source": [
    "print(profiler.profile)\n",
    "print(profiler_now.profile)"
   ]
  },
  {
   "cell_type": "code",
   "execution_count": 3,
   "metadata": {},
   "outputs": [
    {
     "name": "stdout",
     "output_type": "stream",
     "text": [
      "+----------------------------------------+--------+---------+--------+-----------------+\n",
      "| chi2 / (108 - 14) = 116.22 / 94 = 1.24 | varied | bestfit | error  |    interval     |\n",
      "+----------------------------------------+--------+---------+--------+-----------------+\n",
      "|                  qiso                  |  True  | 0.9683  | 0.0073 | -0.0073/+0.0074 |\n",
      "|                  qap                   |  True  |  1.060  | 0.028  |                 |\n",
      "|                   b1                   |  True  |  2.32   |  0.11  |                 |\n",
      "|                 sigmas                 |  True  |   3.7   |  1.6   |                 |\n",
      "|               LRG.al0_-3               |  True  |   740   |        |                 |\n",
      "|               LRG.al0_-2               |  True  |  -2600  |        |                 |\n",
      "|               LRG.al0_-1               |  True  |  -4400  |        |                 |\n",
      "|               LRG.al0_0                |  True  |  3900   |        |                 |\n",
      "|               LRG.al0_1                |  True  |  -480   |        |                 |\n",
      "|               LRG.al2_-3               |  True  |  -130   |        |                 |\n",
      "|               LRG.al2_-2               |  True  |  3000   |        |                 |\n",
      "|               LRG.al2_-1               |  True  | -12000  |        |                 |\n",
      "|               LRG.al2_0                |  True  |  9800   |        |                 |\n",
      "|               LRG.al2_1                |  True  |  -1800  |        |                 |\n",
      "+----------------------------------------+--------+---------+--------+-----------------+\n"
     ]
    }
   ],
   "source": [
    "print(profiler.to_stats(tablefmt='pretty'))"
   ]
  },
  {
   "cell_type": "code",
   "execution_count": 4,
   "metadata": {},
   "outputs": [
    {
     "name": "stdout",
     "output_type": "stream",
     "text": [
      "+----------------------------------------+--------+---------+-------+----------------------+\n",
      "| chi2 / (108 - 14) = 247.52 / 94 = 2.63 | varied | bestfit | error |       interval       |\n",
      "+----------------------------------------+--------+---------+-------+----------------------+\n",
      "|                  qiso                  |  True  |  0.900  | 0.016 | -1.9e-7/+1.734164e-2 |\n",
      "|                  qap                   |  True  |  0.98   | 0.12  |                      |\n",
      "|                   b1                   |  True  |  2.21   | 0.27  |                      |\n",
      "|                 sigmas                 |  True  |   0.2   |  8.5  |                      |\n",
      "|               LRG.al0_-3               |  True  |   660   |       |                      |\n",
      "|               LRG.al0_-2               |  True  |  -3000  |       |                      |\n",
      "|               LRG.al0_-1               |  True  |  -4400  |       |                      |\n",
      "|               LRG.al0_0                |  True  |  2600   |       |                      |\n",
      "|               LRG.al0_1                |  True  |  -310   |       |                      |\n",
      "|               LRG.al2_-3               |  True  |   45    |       |                      |\n",
      "|               LRG.al2_-2               |  True  |   820   |       |                      |\n",
      "|               LRG.al2_-1               |  True  |  -6400  |       |                      |\n",
      "|               LRG.al2_0                |  True  |  3600   |       |                      |\n",
      "|               LRG.al2_1                |  True  |  -850   |       |                      |\n",
      "+----------------------------------------+--------+---------+-------+----------------------+\n"
     ]
    }
   ],
   "source": [
    "print(profiler_now.to_stats(tablefmt='pretty'))"
   ]
  },
  {
   "cell_type": "code",
   "execution_count": 5,
   "metadata": {},
   "outputs": [
    {
     "ename": "KeyError",
     "evalue": "'Parameter bestfit not found'",
     "output_type": "error",
     "traceback": [
      "\u001b[0;31m---------------------------------------------------------------------------\u001b[0m",
      "\u001b[0;31mKeyError\u001b[0m                                  Traceback (most recent call last)",
      "File \u001b[0;32m/global/cfs/cdirs/desicollab/users/adematti/perlmutter/cosmodesiconda/20221205-1.0.0/code/desilike/main/lib/python3.10/site-packages/desilike/parameter.py:1064\u001b[0m, in \u001b[0;36mBaseParameterCollection.get\u001b[0;34m(self, name, *args, **kwargs)\u001b[0m\n\u001b[1;32m   1063\u001b[0m \u001b[39mtry\u001b[39;00m:\n\u001b[0;32m-> 1064\u001b[0m     \u001b[39mreturn\u001b[39;00m \u001b[39mself\u001b[39m\u001b[39m.\u001b[39mdata[\u001b[39mself\u001b[39;49m\u001b[39m.\u001b[39;49mindex(name)]\n\u001b[1;32m   1065\u001b[0m \u001b[39mexcept\u001b[39;00m \u001b[39mKeyError\u001b[39;00m:\n",
      "File \u001b[0;32m/global/cfs/cdirs/desicollab/users/adematti/perlmutter/cosmodesiconda/20221205-1.0.0/code/desilike/main/lib/python3.10/site-packages/desilike/parameter.py:1103\u001b[0m, in \u001b[0;36mBaseParameterCollection.index\u001b[0;34m(self, name)\u001b[0m\n\u001b[1;32m   1089\u001b[0m \u001b[39m\"\"\"\u001b[39;00m\n\u001b[1;32m   1090\u001b[0m \u001b[39mReturn index of parameter ``name``.\u001b[39;00m\n\u001b[1;32m   1091\u001b[0m \n\u001b[0;32m   (...)\u001b[0m\n\u001b[1;32m   1101\u001b[0m \u001b[39mindex : int\u001b[39;00m\n\u001b[1;32m   1102\u001b[0m \u001b[39m\"\"\"\u001b[39;00m\n\u001b[0;32m-> 1103\u001b[0m \u001b[39mreturn\u001b[39;00m \u001b[39mself\u001b[39;49m\u001b[39m.\u001b[39;49m_index_name(\u001b[39mself\u001b[39;49m\u001b[39m.\u001b[39;49m_get_name(name))\n",
      "File \u001b[0;32m/global/cfs/cdirs/desicollab/users/adematti/perlmutter/cosmodesiconda/20221205-1.0.0/code/desilike/main/lib/python3.10/site-packages/desilike/parameter.py:1110\u001b[0m, in \u001b[0;36mBaseParameterCollection._index_name\u001b[0;34m(self, name)\u001b[0m\n\u001b[1;32m   1109\u001b[0m         \u001b[39mreturn\u001b[39;00m ii\n\u001b[0;32m-> 1110\u001b[0m \u001b[39mraise\u001b[39;00m \u001b[39mKeyError\u001b[39;00m(\u001b[39m'\u001b[39m\u001b[39mParameter \u001b[39m\u001b[39m{}\u001b[39;00m\u001b[39m not found\u001b[39m\u001b[39m'\u001b[39m\u001b[39m.\u001b[39mformat(name))\n",
      "\u001b[0;31mKeyError\u001b[0m: 'Parameter bestfit not found'",
      "\nDuring handling of the above exception, another exception occurred:\n",
      "\u001b[0;31mKeyError\u001b[0m                                  Traceback (most recent call last)",
      "Cell \u001b[0;32mIn[5], line 2\u001b[0m\n\u001b[1;32m      1\u001b[0m \u001b[39mfrom\u001b[39;00m \u001b[39mdesilike\u001b[39;00m\u001b[39m.\u001b[39;00m\u001b[39msamples\u001b[39;00m \u001b[39mimport\u001b[39;00m plotting\n\u001b[0;32m----> 2\u001b[0m plotting\u001b[39m.\u001b[39;49mplot_aligned_stacked(profiler\u001b[39m.\u001b[39;49mprofile, profiler_now\u001b[39m.\u001b[39;49mprofile, cl\u001b[39m=\u001b[39;49m[\u001b[39m10\u001b[39;49m, \u001b[39m20\u001b[39;49m, \u001b[39m30\u001b[39;49m, \u001b[39m40\u001b[39;49m])\n",
      "File \u001b[0;32m/global/cfs/cdirs/desicollab/users/adematti/perlmutter/cosmodesiconda/20221205-1.0.0/code/desilike/main/lib/python3.10/site-packages/desilike/plotting.py:115\u001b[0m, in \u001b[0;36mplotter.<locals>.wrapper\u001b[0;34m(fn, kw_save, show, *args, **kwargs)\u001b[0m\n\u001b[1;32m    112\u001b[0m \u001b[39m@wraps\u001b[39m(func)\n\u001b[1;32m    113\u001b[0m \u001b[39mdef\u001b[39;00m \u001b[39mwrapper\u001b[39m(\u001b[39m*\u001b[39margs, fn\u001b[39m=\u001b[39m\u001b[39mNone\u001b[39;00m, kw_save\u001b[39m=\u001b[39m\u001b[39mNone\u001b[39;00m, show\u001b[39m=\u001b[39m\u001b[39mFalse\u001b[39;00m, \u001b[39m*\u001b[39m\u001b[39m*\u001b[39mkwargs):\n\u001b[1;32m    114\u001b[0m     \u001b[39mfrom\u001b[39;00m \u001b[39mmatplotlib\u001b[39;00m \u001b[39mimport\u001b[39;00m pyplot \u001b[39mas\u001b[39;00m plt\n\u001b[0;32m--> 115\u001b[0m     toret \u001b[39m=\u001b[39m func(\u001b[39m*\u001b[39;49margs, \u001b[39m*\u001b[39;49m\u001b[39m*\u001b[39;49mkwargs)\n\u001b[1;32m    116\u001b[0m     \u001b[39mif\u001b[39;00m fn \u001b[39mis\u001b[39;00m \u001b[39mnot\u001b[39;00m \u001b[39mNone\u001b[39;00m:\n\u001b[1;32m    117\u001b[0m         savefig(fn, fig\u001b[39m=\u001b[39mplt\u001b[39m.\u001b[39mgcf(), \u001b[39m*\u001b[39m\u001b[39m*\u001b[39m(kw_save \u001b[39mor\u001b[39;00m {}))\n",
      "File \u001b[0;32m/global/cfs/cdirs/desicollab/users/adematti/perlmutter/cosmodesiconda/20221205-1.0.0/code/desilike/main/lib/python3.10/site-packages/desilike/samples/plotting.py:599\u001b[0m, in \u001b[0;36mplot_aligned_stacked\u001b[0;34m(profiles, params, ids, labels, truths, ybands, ylimits, figsize, **kwargs)\u001b[0m\n\u001b[1;32m    597\u001b[0m \u001b[39mfrom\u001b[39;00m \u001b[39mmatplotlib\u001b[39;00m \u001b[39mimport\u001b[39;00m pyplot \u001b[39mas\u001b[39;00m plt\n\u001b[1;32m    598\u001b[0m profiles \u001b[39m=\u001b[39m _make_list(profiles)\n\u001b[0;32m--> 599\u001b[0m params \u001b[39m=\u001b[39m _get_default_profiles_params(profiles, params\u001b[39m=\u001b[39;49mparams, varied\u001b[39m=\u001b[39;49m\u001b[39mTrue\u001b[39;49;00m, derived\u001b[39m=\u001b[39;49m\u001b[39mFalse\u001b[39;49;00m)\n\u001b[1;32m    600\u001b[0m truths \u001b[39m=\u001b[39m _make_list(truths, length\u001b[39m=\u001b[39m\u001b[39mlen\u001b[39m(params), default\u001b[39m=\u001b[39m\u001b[39mNone\u001b[39;00m)\n\u001b[1;32m    601\u001b[0m ybands \u001b[39m=\u001b[39m _make_list(ybands, length\u001b[39m=\u001b[39m\u001b[39mlen\u001b[39m(params), default\u001b[39m=\u001b[39m\u001b[39mNone\u001b[39;00m)\n",
      "File \u001b[0;32m/global/cfs/cdirs/desicollab/users/adematti/perlmutter/cosmodesiconda/20221205-1.0.0/code/desilike/main/lib/python3.10/site-packages/desilike/samples/plotting.py:59\u001b[0m, in \u001b[0;36m_get_default_profiles_params\u001b[0;34m(profiles, params, of, **kwargs)\u001b[0m\n\u001b[1;32m     57\u001b[0m list_params \u001b[39m=\u001b[39m ParameterCollection()\n\u001b[1;32m     58\u001b[0m \u001b[39mfor\u001b[39;00m profile \u001b[39min\u001b[39;00m profiles[::\u001b[39m-\u001b[39m\u001b[39m1\u001b[39m]:\n\u001b[0;32m---> 59\u001b[0m     all_params \u001b[39m=\u001b[39m profile\u001b[39m.\u001b[39;49mget(of)\u001b[39m.\u001b[39mparams()\n\u001b[1;32m     60\u001b[0m     list_params \u001b[39m+\u001b[39m\u001b[39m=\u001b[39m [all_params[param] \u001b[39mfor\u001b[39;00m param \u001b[39min\u001b[39;00m params \u001b[39mif\u001b[39;00m param \u001b[39min\u001b[39;00m all_params]\n\u001b[1;32m     61\u001b[0m \u001b[39mreturn\u001b[39;00m ParameterCollection([list_params[param] \u001b[39mfor\u001b[39;00m param \u001b[39min\u001b[39;00m params \u001b[39mif\u001b[39;00m param \u001b[39min\u001b[39;00m list_params])\n",
      "File \u001b[0;32m/global/cfs/cdirs/desicollab/users/adematti/perlmutter/cosmodesiconda/20221205-1.0.0/code/desilike/main/lib/python3.10/site-packages/desilike/parameter.py:1068\u001b[0m, in \u001b[0;36mBaseParameterCollection.get\u001b[0;34m(self, name, *args, **kwargs)\u001b[0m\n\u001b[1;32m   1066\u001b[0m \u001b[39mif\u001b[39;00m has_default:\n\u001b[1;32m   1067\u001b[0m     \u001b[39mreturn\u001b[39;00m default\n\u001b[0;32m-> 1068\u001b[0m \u001b[39mraise\u001b[39;00m \u001b[39mKeyError\u001b[39;00m(\u001b[39m'\u001b[39m\u001b[39mParameter \u001b[39m\u001b[39m{}\u001b[39;00m\u001b[39m not found\u001b[39m\u001b[39m'\u001b[39m\u001b[39m.\u001b[39mformat(name))\n",
      "\u001b[0;31mKeyError\u001b[0m: 'Parameter bestfit not found'"
     ]
    }
   ],
   "source": [
    "from desilike.samples import plotting\n",
    "plotting.plot_aligned_stacked(profiler.profile, profiler_now.profile, cl=[10, 20, 30, 40])"
   ]
  },
  {
   "cell_type": "code",
   "execution_count": null,
   "metadata": {},
   "outputs": [],
   "source": [
    "profiler.bestfit.choice()"
   ]
  },
  {
   "cell_type": "code",
   "execution_count": null,
   "metadata": {},
   "outputs": [],
   "source": []
  }
 ],
 "metadata": {
  "kernelspec": {
   "display_name": "base",
   "language": "python",
   "name": "python3"
  },
  "language_info": {
   "codemirror_mode": {
    "name": "ipython",
    "version": 3
   },
   "file_extension": ".py",
   "mimetype": "text/x-python",
   "name": "python",
   "nbconvert_exporter": "python",
   "pygments_lexer": "ipython3",
   "version": "3.10.6"
  },
  "orig_nbformat": 4
 },
 "nbformat": 4,
 "nbformat_minor": 2
}
