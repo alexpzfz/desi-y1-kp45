{
 "cells": [
  {
   "cell_type": "code",
   "execution_count": 1,
   "metadata": {},
   "outputs": [
    {
     "name": "stderr",
     "output_type": "stream",
     "text": [
      "No GPU/TPU found, falling back to CPU. (Set TF_CPP_MIN_LOG_LEVEL=0 and rerun for more info.)\n"
     ]
    }
   ],
   "source": [
    "from desilike.samples import Profiles\n",
    "profiles_fn = '/pscratch/sd/u/uendert/test_y1_bao/profiles_LRG_power_dampedbao_bao.npy'\n",
    "profiles_fn_only_now = '/pscratch/sd/u/uendert/test_y1_bao/profiles_only_now_LRG_power_dampedbao_bao.npy'\n",
    "\n",
    "profiles = Profiles.load(profiles_fn)\n",
    "profiles_now = Profiles.load(profiles_fn_only_now)"
   ]
  },
  {
   "cell_type": "code",
   "execution_count": 2,
   "metadata": {},
   "outputs": [
    {
     "name": "stdout",
     "output_type": "stream",
     "text": [
      "+----------------------------------------+--------+---------+-------+\n",
      "| chi2 / (108 - 14) = 116.22 / 94 = 1.24 | varied | bestfit | error |\n",
      "+----------------------------------------+--------+---------+-------+\n",
      "|                  qpar                  |  True  |  1.007  | 0.020 |\n",
      "|                  qper                  |  True  |  0.950  | 0.011 |\n",
      "|                   b1                   |  True  |  2.32   | 0.11  |\n",
      "|                 sigmas                 |  True  |   3.7   |  1.6  |\n",
      "|               LRG.al0_-3               |  True  |   740   |       |\n",
      "|               LRG.al0_-2               |  True  |  -2600  |       |\n",
      "|               LRG.al0_-1               |  True  |  -4400  |       |\n",
      "|               LRG.al0_0                |  True  |  3900   |       |\n",
      "|               LRG.al0_1                |  True  |  -480   |       |\n",
      "|               LRG.al2_-3               |  True  |  -130   |       |\n",
      "|               LRG.al2_-2               |  True  |  3000   |       |\n",
      "|               LRG.al2_-1               |  True  | -12000  |       |\n",
      "|               LRG.al2_0                |  True  |  9800   |       |\n",
      "|               LRG.al2_1                |  True  |  -1800  |       |\n",
      "+----------------------------------------+--------+---------+-------+\n"
     ]
    }
   ],
   "source": [
    "print(profiles.to_stats(tablefmt='pretty'))"
   ]
  },
  {
   "cell_type": "code",
   "execution_count": 3,
   "metadata": {},
   "outputs": [
    {
     "name": "stdout",
     "output_type": "stream",
     "text": [
      "+----------------------------------------+--------+---------+-------+\n",
      "| chi2 / (108 - 14) = 247.53 / 94 = 2.63 | varied | bestfit | error |\n",
      "+----------------------------------------+--------+---------+-------+\n",
      "|                  qpar                  |  True  |  0.900  | 0.043 |\n",
      "|                  qper                  |  True  |  0.900  | 0.024 |\n",
      "|                   b1                   |  True  |  2.21   | 0.27  |\n",
      "|                 sigmas                 |  True  |   0.0   |  6.5  |\n",
      "|               LRG.al0_-3               |  True  |   660   |       |\n",
      "|               LRG.al0_-2               |  True  |  -2900  |       |\n",
      "|               LRG.al0_-1               |  True  |  -4400  |       |\n",
      "|               LRG.al0_0                |  True  |  2600   |       |\n",
      "|               LRG.al0_1                |  True  |  -310   |       |\n",
      "|               LRG.al2_-3               |  True  |  -9.0   |       |\n",
      "|               LRG.al2_-2               |  True  |  1200   |       |\n",
      "|               LRG.al2_-1               |  True  |  -7500  |       |\n",
      "|               LRG.al2_0                |  True  |  4000   |       |\n",
      "|               LRG.al2_1                |  True  |  -910   |       |\n",
      "+----------------------------------------+--------+---------+-------+\n"
     ]
    }
   ],
   "source": [
    "print(profiles_now.to_stats(tablefmt='pretty'))"
   ]
  },
  {
   "cell_type": "code",
   "execution_count": 4,
   "metadata": {},
   "outputs": [
    {
     "data": {
      "text/plain": [
       "array([<Axes: ylabel='$q_{\\\\parallel}$'>, <Axes: ylabel='$q_{\\\\perp}$'>],\n",
       "      dtype=object)"
      ]
     },
     "execution_count": 4,
     "metadata": {},
     "output_type": "execute_result"
    },
    {
     "data": {
      "image/png": "[encoded data removed]",
      "text/plain": [
       "<Figure size 1000x600 with 2 Axes>"
      ]
     },
     "metadata": {},
     "output_type": "display_data"
    }
   ],
   "source": [
    "from desilike.samples import plotting\n",
    "plotting.plot_aligned_stacked(profiles, params=['qpar', 'qper']) #, ylimits={'qpar':[0.8, 1.2]})"
   ]
  },
  {
   "cell_type": "code",
   "execution_count": 5,
   "metadata": {},
   "outputs": [
    {
     "data": {
      "text/plain": [
       "{'qpar': 1.0068588883493623,\n",
       " 'qper': 0.9495772580418108,\n",
       " 'b1': 2.3189450373750584,\n",
       " 'sigmas': 3.696218721585891,\n",
       " 'logposterior': -58.10759756233717,\n",
       " 'LRG.loglikelihood': ParameterArray(LRG.loglikelihood, [Deriv(), Deriv({'LRG.al0_-3': 2}), Deriv({'LRG.al0_-3': 1, 'LRG.al0_-2': 1}), Deriv({'LRG.al0_-3': 1, 'LRG.al0_-1': 1}), Deriv({'LRG.al0_-3': 1, 'LRG.al0_0': 1}), Deriv({'LRG.al0_-3': 1, 'LRG.al0_1': 1}), Deriv({'LRG.al0_-3': 1, 'LRG.al2_-3': 1}), Deriv({'LRG.al0_-3': 1, 'LRG.al2_-2': 1}), Deriv({'LRG.al0_-3': 1, 'LRG.al2_-1': 1}), Deriv({'LRG.al0_-3': 1, 'LRG.al2_0': 1}), Deriv({'LRG.al0_-3': 1, 'LRG.al2_1': 1}), Deriv({'LRG.al0_-2': 2}), Deriv({'LRG.al0_-2': 1, 'LRG.al0_-1': 1}), Deriv({'LRG.al0_-2': 1, 'LRG.al0_0': 1}), Deriv({'LRG.al0_-2': 1, 'LRG.al0_1': 1}), Deriv({'LRG.al0_-2': 1, 'LRG.al2_-3': 1}), Deriv({'LRG.al0_-2': 1, 'LRG.al2_-2': 1}), Deriv({'LRG.al0_-2': 1, 'LRG.al2_-1': 1}), Deriv({'LRG.al0_-2': 1, 'LRG.al2_0': 1}), Deriv({'LRG.al0_-2': 1, 'LRG.al2_1': 1}), Deriv({'LRG.al0_-1': 2}), Deriv({'LRG.al0_-1': 1, 'LRG.al0_0': 1}), Deriv({'LRG.al0_-1': 1, 'LRG.al0_1': 1}), Deriv({'LRG.al0_-1': 1, 'LRG.al2_-3': 1}), Deriv({'LRG.al0_-1': 1, 'LRG.al2_-2': 1}), Deriv({'LRG.al0_-1': 1, 'LRG.al2_-1': 1}), Deriv({'LRG.al0_-1': 1, 'LRG.al2_0': 1}), Deriv({'LRG.al0_-1': 1, 'LRG.al2_1': 1}), Deriv({'LRG.al0_0': 2}), Deriv({'LRG.al0_0': 1, 'LRG.al0_1': 1}), Deriv({'LRG.al0_0': 1, 'LRG.al2_-3': 1}), Deriv({'LRG.al0_0': 1, 'LRG.al2_-2': 1}), Deriv({'LRG.al0_0': 1, 'LRG.al2_-1': 1}), Deriv({'LRG.al0_0': 1, 'LRG.al2_0': 1}), Deriv({'LRG.al0_0': 1, 'LRG.al2_1': 1}), Deriv({'LRG.al0_1': 2}), Deriv({'LRG.al0_1': 1, 'LRG.al2_-3': 1}), Deriv({'LRG.al0_1': 1, 'LRG.al2_-2': 1}), Deriv({'LRG.al0_1': 1, 'LRG.al2_-1': 1}), Deriv({'LRG.al0_1': 1, 'LRG.al2_0': 1}), Deriv({'LRG.al0_1': 1, 'LRG.al2_1': 1}), Deriv({'LRG.al2_-3': 2}), Deriv({'LRG.al2_-3': 1, 'LRG.al2_-2': 1}), Deriv({'LRG.al2_-3': 1, 'LRG.al2_-1': 1}), Deriv({'LRG.al2_-3': 1, 'LRG.al2_0': 1}), Deriv({'LRG.al2_-3': 1, 'LRG.al2_1': 1}), Deriv({'LRG.al2_-2': 2}), Deriv({'LRG.al2_-2': 1, 'LRG.al2_-1': 1}), Deriv({'LRG.al2_-2': 1, 'LRG.al2_0': 1}), Deriv({'LRG.al2_-2': 1, 'LRG.al2_1': 1}), Deriv({'LRG.al2_-1': 2}), Deriv({'LRG.al2_-1': 1, 'LRG.al2_0': 1}), Deriv({'LRG.al2_-1': 1, 'LRG.al2_1': 1}), Deriv({'LRG.al2_0': 2}), Deriv({'LRG.al2_0': 1, 'LRG.al2_1': 1}), Deriv({'LRG.al2_1': 2})], [-5.81075976e+01 -3.23176132e-03 -1.87366816e-03 -1.81770258e-03\n",
       "  -2.67270370e-03 -5.06692954e-03  1.41646994e-04  9.43551640e-05\n",
       "   9.42720527e-05  1.39132790e-04  2.66017054e-04 -1.66278037e-03\n",
       "  -2.38475260e-03 -4.46717121e-03 -9.64710603e-03  3.25514987e-05\n",
       "   3.14351192e-05  4.52054102e-05  8.55928468e-05  1.89764025e-04\n",
       "  -4.38054339e-03 -9.38377230e-03 -2.18740672e-02  1.60918742e-05\n",
       "   2.37414106e-05  4.55479258e-05  1.01717639e-04  2.49292572e-04\n",
       "  -2.16989067e-02 -5.30707600e-02  1.53386071e-05  2.90253284e-05\n",
       "   6.41807491e-05  1.56277103e-04  4.07464769e-04 -1.34115181e-01\n",
       "   2.11844482e-05  4.44206787e-05  1.04945251e-04  2.68916076e-04\n",
       "   7.33208168e-04 -3.95883612e-04 -2.62215182e-04 -2.71072920e-04\n",
       "  -4.12143867e-04 -7.93320685e-04 -2.68817453e-04 -4.07399646e-04\n",
       "  -7.82681628e-04 -1.71175383e-03 -7.79617009e-04 -1.70072495e-03\n",
       "  -4.00314433e-03 -3.99258173e-03 -9.84659352e-03 -2.50743937e-02]),\n",
       " 'LRG.logprior': ParameterArray(LRG.logprior, [Deriv(), Deriv({'LRG.al0_-3': 2}), Deriv({'LRG.al0_-3': 1, 'LRG.al0_-2': 1}), Deriv({'LRG.al0_-3': 1, 'LRG.al0_-1': 1}), Deriv({'LRG.al0_-3': 1, 'LRG.al0_0': 1}), Deriv({'LRG.al0_-3': 1, 'LRG.al0_1': 1}), Deriv({'LRG.al0_-3': 1, 'LRG.al2_-3': 1}), Deriv({'LRG.al0_-3': 1, 'LRG.al2_-2': 1}), Deriv({'LRG.al0_-3': 1, 'LRG.al2_-1': 1}), Deriv({'LRG.al0_-3': 1, 'LRG.al2_0': 1}), Deriv({'LRG.al0_-3': 1, 'LRG.al2_1': 1}), Deriv({'LRG.al0_-2': 2}), Deriv({'LRG.al0_-2': 1, 'LRG.al0_-1': 1}), Deriv({'LRG.al0_-2': 1, 'LRG.al0_0': 1}), Deriv({'LRG.al0_-2': 1, 'LRG.al0_1': 1}), Deriv({'LRG.al0_-2': 1, 'LRG.al2_-3': 1}), Deriv({'LRG.al0_-2': 1, 'LRG.al2_-2': 1}), Deriv({'LRG.al0_-2': 1, 'LRG.al2_-1': 1}), Deriv({'LRG.al0_-2': 1, 'LRG.al2_0': 1}), Deriv({'LRG.al0_-2': 1, 'LRG.al2_1': 1}), Deriv({'LRG.al0_-1': 2}), Deriv({'LRG.al0_-1': 1, 'LRG.al0_0': 1}), Deriv({'LRG.al0_-1': 1, 'LRG.al0_1': 1}), Deriv({'LRG.al0_-1': 1, 'LRG.al2_-3': 1}), Deriv({'LRG.al0_-1': 1, 'LRG.al2_-2': 1}), Deriv({'LRG.al0_-1': 1, 'LRG.al2_-1': 1}), Deriv({'LRG.al0_-1': 1, 'LRG.al2_0': 1}), Deriv({'LRG.al0_-1': 1, 'LRG.al2_1': 1}), Deriv({'LRG.al0_0': 2}), Deriv({'LRG.al0_0': 1, 'LRG.al0_1': 1}), Deriv({'LRG.al0_0': 1, 'LRG.al2_-3': 1}), Deriv({'LRG.al0_0': 1, 'LRG.al2_-2': 1}), Deriv({'LRG.al0_0': 1, 'LRG.al2_-1': 1}), Deriv({'LRG.al0_0': 1, 'LRG.al2_0': 1}), Deriv({'LRG.al0_0': 1, 'LRG.al2_1': 1}), Deriv({'LRG.al0_1': 2}), Deriv({'LRG.al0_1': 1, 'LRG.al2_-3': 1}), Deriv({'LRG.al0_1': 1, 'LRG.al2_-2': 1}), Deriv({'LRG.al0_1': 1, 'LRG.al2_-1': 1}), Deriv({'LRG.al0_1': 1, 'LRG.al2_0': 1}), Deriv({'LRG.al0_1': 1, 'LRG.al2_1': 1}), Deriv({'LRG.al2_-3': 2}), Deriv({'LRG.al2_-3': 1, 'LRG.al2_-2': 1}), Deriv({'LRG.al2_-3': 1, 'LRG.al2_-1': 1}), Deriv({'LRG.al2_-3': 1, 'LRG.al2_0': 1}), Deriv({'LRG.al2_-3': 1, 'LRG.al2_1': 1}), Deriv({'LRG.al2_-2': 2}), Deriv({'LRG.al2_-2': 1, 'LRG.al2_-1': 1}), Deriv({'LRG.al2_-2': 1, 'LRG.al2_0': 1}), Deriv({'LRG.al2_-2': 1, 'LRG.al2_1': 1}), Deriv({'LRG.al2_-1': 2}), Deriv({'LRG.al2_-1': 1, 'LRG.al2_0': 1}), Deriv({'LRG.al2_-1': 1, 'LRG.al2_1': 1}), Deriv({'LRG.al2_0': 2}), Deriv({'LRG.al2_0': 1, 'LRG.al2_1': 1}), Deriv({'LRG.al2_1': 2})], [ 0. -0. -0. -0. -0. -0. -0. -0. -0. -0. -0. -0. -0. -0. -0. -0. -0. -0.\n",
       "  -0. -0. -0. -0. -0. -0. -0. -0. -0. -0. -0. -0. -0. -0. -0. -0. -0. -0.\n",
       "  -0. -0. -0. -0. -0. -0. -0. -0. -0. -0. -0. -0. -0. -0. -0. -0. -0. -0.\n",
       "  -0. -0.]),\n",
       " 'LRG.al0_-3': 744.6822368644681,\n",
       " 'LRG.al0_-2': -2553.4275110884923,\n",
       " 'LRG.al0_-1': -4368.896897586717,\n",
       " 'LRG.al0_0': 3918.991349243507,\n",
       " 'LRG.al0_1': -476.98340870097655,\n",
       " 'LRG.al2_-3': -130.78848167105826,\n",
       " 'LRG.al2_-2': 3049.5513357724562,\n",
       " 'LRG.al2_-1': -12171.36660151391,\n",
       " 'LRG.al2_0': 9777.307984479583,\n",
       " 'LRG.al2_1': -1830.8304714016501}"
      ]
     },
     "execution_count": 5,
     "metadata": {},
     "output_type": "execute_result"
    }
   ],
   "source": [
    "profiles.bestfit.choice()"
   ]
  },
  {
   "cell_type": "code",
   "execution_count": 6,
   "metadata": {},
   "outputs": [
    {
     "name": "stdout",
     "output_type": "stream",
     "text": [
      "\u001b[0;31mSignature:\u001b[0m \u001b[0mProfiles\u001b[0m\u001b[0;34m.\u001b[0m\u001b[0mload\u001b[0m\u001b[0;34m(\u001b[0m\u001b[0mfilename\u001b[0m\u001b[0;34m,\u001b[0m \u001b[0mfallback_class\u001b[0m\u001b[0;34m=\u001b[0m\u001b[0;32mNone\u001b[0m\u001b[0;34m)\u001b[0m\u001b[0;34m\u001b[0m\u001b[0;34m\u001b[0m\u001b[0m\n",
      "\u001b[0;31mDocstring:\u001b[0m <no docstring>\n",
      "\u001b[0;31mFile:\u001b[0m      /global/cfs/cdirs/desicollab/users/adematti/perlmutter/cosmodesiconda/20221205-1.0.0/code/desilike/main/lib/python3.10/site-packages/desilike/utils.py\n",
      "\u001b[0;31mType:\u001b[0m      method\n"
     ]
    }
   ],
   "source": [
    "?Profiles.load"
   ]
  },
  {
   "cell_type": "code",
   "execution_count": 7,
   "metadata": {},
   "outputs": [
    {
     "ename": "AttributeError",
     "evalue": "'Profiles' object has no attribute 'profile'",
     "output_type": "error",
     "traceback": [
      "\u001b[0;31m---------------------------------------------------------------------------\u001b[0m",
      "\u001b[0;31mAttributeError\u001b[0m                            Traceback (most recent call last)",
      "Cell \u001b[0;32mIn[7], line 1\u001b[0m\n\u001b[0;32m----> 1\u001b[0m plotting\u001b[39m.\u001b[39;49mplot_profile_comparison(profiles, profiles_now, cl\u001b[39m=\u001b[39;49m[\u001b[39m4\u001b[39;49m, \u001b[39m8\u001b[39;49m])\n",
      "File \u001b[0;32m/global/cfs/cdirs/desicollab/users/adematti/perlmutter/cosmodesiconda/20221205-1.0.0/code/desilike/main/lib/python3.10/site-packages/desilike/samples/plotting.py:792\u001b[0m, in \u001b[0;36mplot_profile_comparison\u001b[0;34m(profiles, profiles_ref, params, labels, colors, **kwargs)\u001b[0m\n\u001b[1;32m    790\u001b[0m colors \u001b[39m=\u001b[39m colors \u001b[39m*\u001b[39m \u001b[39m2\u001b[39m\n\u001b[1;32m    791\u001b[0m linestyles \u001b[39m=\u001b[39m [\u001b[39m'\u001b[39m\u001b[39m-\u001b[39m\u001b[39m'\u001b[39m] \u001b[39m*\u001b[39m nprofiles \u001b[39m+\u001b[39m [\u001b[39m'\u001b[39m\u001b[39m--\u001b[39m\u001b[39m'\u001b[39m] \u001b[39m*\u001b[39m nprofiles\n\u001b[0;32m--> 792\u001b[0m plot_profile(profiles \u001b[39m+\u001b[39;49m profiles_ref, params\u001b[39m=\u001b[39;49mparams, offsets\u001b[39m=\u001b[39;49moffsets, labels\u001b[39m=\u001b[39;49mlabels, colors\u001b[39m=\u001b[39;49mcolors, linestyles\u001b[39m=\u001b[39;49mlinestyles, \u001b[39m*\u001b[39;49m\u001b[39m*\u001b[39;49mkwargs)\n",
      "File \u001b[0;32m/global/cfs/cdirs/desicollab/users/adematti/perlmutter/cosmodesiconda/20221205-1.0.0/code/desilike/main/lib/python3.10/site-packages/desilike/plotting.py:115\u001b[0m, in \u001b[0;36mplotter.<locals>.wrapper\u001b[0;34m(fn, kw_save, show, *args, **kwargs)\u001b[0m\n\u001b[1;32m    112\u001b[0m \u001b[39m@wraps\u001b[39m(func)\n\u001b[1;32m    113\u001b[0m \u001b[39mdef\u001b[39;00m \u001b[39mwrapper\u001b[39m(\u001b[39m*\u001b[39margs, fn\u001b[39m=\u001b[39m\u001b[39mNone\u001b[39;00m, kw_save\u001b[39m=\u001b[39m\u001b[39mNone\u001b[39;00m, show\u001b[39m=\u001b[39m\u001b[39mFalse\u001b[39;00m, \u001b[39m*\u001b[39m\u001b[39m*\u001b[39mkwargs):\n\u001b[1;32m    114\u001b[0m     \u001b[39mfrom\u001b[39;00m \u001b[39mmatplotlib\u001b[39;00m \u001b[39mimport\u001b[39;00m pyplot \u001b[39mas\u001b[39;00m plt\n\u001b[0;32m--> 115\u001b[0m     toret \u001b[39m=\u001b[39m func(\u001b[39m*\u001b[39;49margs, \u001b[39m*\u001b[39;49m\u001b[39m*\u001b[39;49mkwargs)\n\u001b[1;32m    116\u001b[0m     \u001b[39mif\u001b[39;00m fn \u001b[39mis\u001b[39;00m \u001b[39mnot\u001b[39;00m \u001b[39mNone\u001b[39;00m:\n\u001b[1;32m    117\u001b[0m         savefig(fn, fig\u001b[39m=\u001b[39mplt\u001b[39m.\u001b[39mgcf(), \u001b[39m*\u001b[39m\u001b[39m*\u001b[39m(kw_save \u001b[39mor\u001b[39;00m {}))\n",
      "File \u001b[0;32m/global/cfs/cdirs/desicollab/users/adematti/perlmutter/cosmodesiconda/20221205-1.0.0/code/desilike/main/lib/python3.10/site-packages/desilike/samples/plotting.py:696\u001b[0m, in \u001b[0;36mplot_profile\u001b[0;34m(profiles, params, offsets, nrows, labels, colors, linestyles, cl, labelsize, ticksize, kw_profile, kw_cl, kw_legend, figsize)\u001b[0m\n\u001b[1;32m    694\u001b[0m \u001b[39mfrom\u001b[39;00m \u001b[39mmatplotlib\u001b[39;00m \u001b[39mimport\u001b[39;00m pyplot \u001b[39mas\u001b[39;00m plt\n\u001b[1;32m    695\u001b[0m profiles \u001b[39m=\u001b[39m _make_list(profiles)\n\u001b[0;32m--> 696\u001b[0m params \u001b[39m=\u001b[39m _get_default_profiles_params(profiles, params\u001b[39m=\u001b[39;49mparams, of\u001b[39m=\u001b[39;49m\u001b[39m'\u001b[39;49m\u001b[39mprofile\u001b[39;49m\u001b[39m'\u001b[39;49m, varied\u001b[39m=\u001b[39;49m\u001b[39mTrue\u001b[39;49;00m, derived\u001b[39m=\u001b[39;49m\u001b[39mFalse\u001b[39;49;00m)\n\u001b[1;32m    697\u001b[0m nprofiles \u001b[39m=\u001b[39m \u001b[39mlen\u001b[39m(profiles)\n\u001b[1;32m    698\u001b[0m offsets \u001b[39m=\u001b[39m _make_list(offsets, length\u001b[39m=\u001b[39mnprofiles, default\u001b[39m=\u001b[39m\u001b[39m0.\u001b[39m)\n",
      "File \u001b[0;32m/global/cfs/cdirs/desicollab/users/adematti/perlmutter/cosmodesiconda/20221205-1.0.0/code/desilike/main/lib/python3.10/site-packages/desilike/samples/plotting.py:62\u001b[0m, in \u001b[0;36m_get_default_profiles_params\u001b[0;34m(profiles, params, of, **kwargs)\u001b[0m\n\u001b[1;32m     60\u001b[0m         list_params \u001b[39m+\u001b[39m\u001b[39m=\u001b[39m [all_params[param] \u001b[39mfor\u001b[39;00m param \u001b[39min\u001b[39;00m params \u001b[39mif\u001b[39;00m param \u001b[39min\u001b[39;00m all_params]\n\u001b[1;32m     61\u001b[0m     \u001b[39mreturn\u001b[39;00m ParameterCollection([list_params[param] \u001b[39mfor\u001b[39;00m param \u001b[39min\u001b[39;00m params \u001b[39mif\u001b[39;00m param \u001b[39min\u001b[39;00m list_params])\n\u001b[0;32m---> 62\u001b[0m list_params \u001b[39m=\u001b[39m [profile\u001b[39m.\u001b[39mget(of)\u001b[39m.\u001b[39mparams(\u001b[39m*\u001b[39m\u001b[39m*\u001b[39mkwargs) \u001b[39mfor\u001b[39;00m profile \u001b[39min\u001b[39;00m profiles]\n\u001b[1;32m     63\u001b[0m \u001b[39mreturn\u001b[39;00m ParameterCollection([params \u001b[39mfor\u001b[39;00m params \u001b[39min\u001b[39;00m list_params[\u001b[39m0\u001b[39m] \u001b[39mif\u001b[39;00m \u001b[39mall\u001b[39m(params \u001b[39min\u001b[39;00m lparams \u001b[39mfor\u001b[39;00m lparams \u001b[39min\u001b[39;00m list_params[\u001b[39m1\u001b[39m:])])\n",
      "File \u001b[0;32m/global/cfs/cdirs/desicollab/users/adematti/perlmutter/cosmodesiconda/20221205-1.0.0/code/desilike/main/lib/python3.10/site-packages/desilike/samples/plotting.py:62\u001b[0m, in \u001b[0;36m<listcomp>\u001b[0;34m(.0)\u001b[0m\n\u001b[1;32m     60\u001b[0m         list_params \u001b[39m+\u001b[39m\u001b[39m=\u001b[39m [all_params[param] \u001b[39mfor\u001b[39;00m param \u001b[39min\u001b[39;00m params \u001b[39mif\u001b[39;00m param \u001b[39min\u001b[39;00m all_params]\n\u001b[1;32m     61\u001b[0m     \u001b[39mreturn\u001b[39;00m ParameterCollection([list_params[param] \u001b[39mfor\u001b[39;00m param \u001b[39min\u001b[39;00m params \u001b[39mif\u001b[39;00m param \u001b[39min\u001b[39;00m list_params])\n\u001b[0;32m---> 62\u001b[0m list_params \u001b[39m=\u001b[39m [profile\u001b[39m.\u001b[39;49mget(of)\u001b[39m.\u001b[39mparams(\u001b[39m*\u001b[39m\u001b[39m*\u001b[39mkwargs) \u001b[39mfor\u001b[39;00m profile \u001b[39min\u001b[39;00m profiles]\n\u001b[1;32m     63\u001b[0m \u001b[39mreturn\u001b[39;00m ParameterCollection([params \u001b[39mfor\u001b[39;00m params \u001b[39min\u001b[39;00m list_params[\u001b[39m0\u001b[39m] \u001b[39mif\u001b[39;00m \u001b[39mall\u001b[39m(params \u001b[39min\u001b[39;00m lparams \u001b[39mfor\u001b[39;00m lparams \u001b[39min\u001b[39;00m list_params[\u001b[39m1\u001b[39m:])])\n",
      "File \u001b[0;32m/global/cfs/cdirs/desicollab/users/adematti/perlmutter/cosmodesiconda/20221205-1.0.0/code/desilike/main/lib/python3.10/site-packages/desilike/samples/profiles.py:401\u001b[0m, in \u001b[0;36mProfiles.get\u001b[0;34m(self, *args, **kwargs)\u001b[0m\n\u001b[1;32m    399\u001b[0m \u001b[39mdef\u001b[39;00m \u001b[39mget\u001b[39m(\u001b[39mself\u001b[39m, \u001b[39m*\u001b[39margs, \u001b[39m*\u001b[39m\u001b[39m*\u001b[39mkwargs):\n\u001b[1;32m    400\u001b[0m     \u001b[39m\"\"\"Access attribute by name.\"\"\"\u001b[39;00m\n\u001b[0;32m--> 401\u001b[0m     \u001b[39mreturn\u001b[39;00m \u001b[39mgetattr\u001b[39;49m(\u001b[39mself\u001b[39;49m, \u001b[39m*\u001b[39;49margs, \u001b[39m*\u001b[39;49m\u001b[39m*\u001b[39;49mkwargs)\n",
      "\u001b[0;31mAttributeError\u001b[0m: 'Profiles' object has no attribute 'profile'"
     ]
    }
   ],
   "source": [
    "plotting.plot_profile_comparison(profiles, profiles_now, cl=[4, 8])"
   ]
  },
  {
   "cell_type": "code",
   "execution_count": null,
   "metadata": {},
   "outputs": [],
   "source": []
  }
 ],
 "metadata": {
  "kernelspec": {
   "display_name": "base",
   "language": "python",
   "name": "python3"
  },
  "language_info": {
   "codemirror_mode": {
    "name": "ipython",
    "version": 3
   },
   "file_extension": ".py",
   "mimetype": "text/x-python",
   "name": "python",
   "nbconvert_exporter": "python",
   "pygments_lexer": "ipython3",
   "version": "3.10.6"
  },
  "orig_nbformat": 4
 },
 "nbformat": 4,
 "nbformat_minor": 2
}
